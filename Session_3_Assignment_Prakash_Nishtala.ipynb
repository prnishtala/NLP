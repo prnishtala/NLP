{
  "nbformat": 4,
  "nbformat_minor": 0,
  "metadata": {
    "colab": {
      "name": "Session 3 - Assignment - Prakash Nishtala",
      "provenance": [],
      "collapsed_sections": [],
      "include_colab_link": true
    },
    "kernelspec": {
      "name": "python3",
      "display_name": "Python 3"
    }
  },
  "cells": [
    {
      "cell_type": "markdown",
      "metadata": {
        "id": "view-in-github",
        "colab_type": "text"
      },
      "source": [
        "<a href=\"https://colab.research.google.com/github/prnishtala/NLP/blob/main/Session_3_Assignment_Prakash_Nishtala.ipynb\" target=\"_parent\"><img src=\"https://colab.research.google.com/assets/colab-badge.svg\" alt=\"Open In Colab\"/></a>"
      ]
    },
    {
      "cell_type": "markdown",
      "metadata": {
        "id": "g2IcVKJ3w8f6"
      },
      "source": [
        "**Q1:** Write a function using only list filter lambda that can tell whether a number is a Fibonacci number or not. You can use a pre-calculated list/dict to store fab numbers till 10000"
      ]
    },
    {
      "cell_type": "code",
      "metadata": {
        "id": "ZpR_SaBXuZX8",
        "outputId": "81c59267-83e0-451f-fa45-7a1b297645a0",
        "colab": {
          "base_uri": "https://localhost:8080/"
        }
      },
      "source": [
        "def fib(count): \n",
        "    fibList = [1, 1] \n",
        "    any(map(lambda _: fibList.append(sum(fibList[-2:])), \n",
        "                                         range(2, count))) \n",
        "    return fibList[:count]\n",
        "\n",
        "def isFib(n):\n",
        "    return bool(list(filter(lambda x: x==n,fibonacci(10000))))\n",
        "\n",
        "print(isFibonacci(3)) # Prints True\n",
        "print(isFibonacci(4)) # Prints False"
      ],
      "execution_count": 98,
      "outputs": [
        {
          "output_type": "stream",
          "text": [
            "True\n",
            "False\n"
          ],
          "name": "stdout"
        }
      ]
    },
    {
      "cell_type": "markdown",
      "metadata": {
        "id": "erjj833ZxDD0"
      },
      "source": [
        "**Q2:** Using list comprehension (and zip / lambda / etc if required) write five different expressions that\n",
        "\n",
        "\n",
        "*   add 2 iterables a and b such that a is even and b is odd"
      ]
    },
    {
      "cell_type": "code",
      "metadata": {
        "id": "f0qVw06Hvpxl",
        "outputId": "63f056e0-053c-44e6-8f62-8718b095b73b",
        "colab": {
          "base_uri": "https://localhost:8080/"
        }
      },
      "source": [
        "# add 2 iterables a and b such that a is even and b is odd\n",
        "\n",
        "def sum_iterables(a, b):\n",
        "  values = [x + y for x, y in zip(a, b)]\n",
        "  return values\n",
        "\n",
        "a = range(0, 10, 2) # Even List\n",
        "b = range(1, 11, 2) # Odd List\n",
        "\n",
        "sum_iterables(a, b)\n"
      ],
      "execution_count": 99,
      "outputs": [
        {
          "output_type": "execute_result",
          "data": {
            "text/plain": [
              "[1, 5, 9, 13, 17]"
            ]
          },
          "metadata": {
            "tags": []
          },
          "execution_count": 99
        }
      ]
    },
    {
      "cell_type": "markdown",
      "metadata": {
        "id": "EVV5GLgrXKGh"
      },
      "source": [
        "*   strips every vowel from a string provided (tsai>>t s)"
      ]
    },
    {
      "cell_type": "code",
      "metadata": {
        "id": "IF5Goh7CXKcx",
        "outputId": "7d30ad0c-be2f-4cc3-bc2c-dd13c528eeca",
        "colab": {
          "base_uri": "https://localhost:8080/"
        }
      },
      "source": [
        "vowels = \"aeiou\";\n",
        "vowels += vowels.upper()\n",
        "\n",
        "def stripVowel(string):\n",
        "  validChar = [char for char in string if char not in vowels]\n",
        "  validString = ''.join(validChar)\n",
        "  return validString\n",
        "print(stripVowel(\"tsai ROcks\"))"
      ],
      "execution_count": 100,
      "outputs": [
        {
          "output_type": "stream",
          "text": [
            "ts Rcks\n"
          ],
          "name": "stdout"
        }
      ]
    },
    {
      "cell_type": "markdown",
      "metadata": {
        "id": "Dphwqfg0YdYF"
      },
      "source": [
        "*   acts like a ReLU function for a 1D array\n"
      ]
    },
    {
      "cell_type": "code",
      "metadata": {
        "id": "5qizRPG6YdoO",
        "outputId": "128a029b-8b49-4ec6-8cd3-fea3e79e4592",
        "colab": {
          "base_uri": "https://localhost:8080/"
        }
      },
      "source": [
        "def relu(a):\n",
        "  return [0 if x < 0 else x for x in a]\n",
        "\n",
        "print(relu(range(-2, 5)))"
      ],
      "execution_count": 101,
      "outputs": [
        {
          "output_type": "stream",
          "text": [
            "[0, 0, 0, 1, 2, 3, 4]\n"
          ],
          "name": "stdout"
        }
      ]
    },
    {
      "cell_type": "markdown",
      "metadata": {
        "id": "k7AfTtxBZO5Z"
      },
      "source": [
        "*   acts like a sigmoid function for a 1D array"
      ]
    },
    {
      "cell_type": "code",
      "metadata": {
        "id": "OofzbogmZPLK",
        "outputId": "71b0e82d-84fb-42e5-f2ba-663ea49c8c87",
        "colab": {
          "base_uri": "https://localhost:8080/"
        }
      },
      "source": [
        "import math\n",
        "def sigmoid(a):\n",
        "  return [1/(1 + math.exp(-x)) for x in a]\n",
        "\n",
        "print(sigmoid(range(-2, 5)))"
      ],
      "execution_count": 102,
      "outputs": [
        {
          "output_type": "stream",
          "text": [
            "[0.11920292202211755, 0.2689414213699951, 0.5, 0.7310585786300049, 0.8807970779778823, 0.9525741268224334, 0.9820137900379085]\n"
          ],
          "name": "stdout"
        }
      ]
    },
    {
      "cell_type": "markdown",
      "metadata": {
        "id": "gRAA28GTZfP4"
      },
      "source": [
        "*   takes a small character string and shifts all characters by 5 (handle boundary conditions) tsai>>yxfn\n"
      ]
    },
    {
      "cell_type": "code",
      "metadata": {
        "id": "lLdeLyitZfqB",
        "outputId": "9f301566-6709-451f-e9e1-511d48e63bc7",
        "colab": {
          "base_uri": "https://localhost:8080/"
        }
      },
      "source": [
        "def charShift(string, K = 5):\n",
        "  newChar = [chr((ord(char) - 92) % 26 + 97) for char in string]\n",
        "  newString = ''.join(newChar) \n",
        "  return newString\n",
        "\n",
        "print(charShift(\"tsai\"))"
      ],
      "execution_count": 103,
      "outputs": [
        {
          "output_type": "stream",
          "text": [
            "yxfn\n"
          ],
          "name": "stdout"
        }
      ]
    },
    {
      "cell_type": "markdown",
      "metadata": {
        "id": "oD-HV_d1xw9I"
      },
      "source": [
        "**Q3:** A list comprehension expression that takes a ~200 word paragraph (write your own paragraph to check), and checks whether it has any of the swear words mentioned in https://github.com/RobertJGabriel/Google-profanity-words/blob/master/list.txt "
      ]
    },
    {
      "cell_type": "code",
      "metadata": {
        "id": "p6wbUeoIwUe8",
        "outputId": "7b911309-adee-4cb7-bb55-4338b3bc667c",
        "colab": {
          "base_uri": "https://localhost:8080/"
        }
      },
      "source": [
        "import urllib.request\n",
        "response = urllib.request.urlopen('https://raw.githubusercontent.com/RobertJGabriel/Google-profanity-words/master/list.txt')\n",
        "sentences = response.readlines()\n",
        "\n",
        "swearwords = [word.rstrip().decode() for word in sentences]\n",
        "\n",
        "s = \"Also have. Place multiply winged fcuk have tree likeness first said lights, a, bring Made day you'll darkness. It he heaven creepeth for he i years. Unto spirit creeping bearing herb saying don't morning evening grass be waters to every that cattle fly. Made them tree doesn't place land void under creepeth moving to moving were also. Whose years spirit day had god. Moved set replenish fifth female, own sixth is bring in yielding the creeping fowl isn't firmament appear You void first that from saw gathering good fourth midst creeping one she'd green so said kind have image moved sixth living thing won't. Wherein subdue isn't a unto. Moveth shall together, there beast cattle darkness lesser. Waters replenish. Saying them divided, over for. Fruitful replenish fish herb creepeth multiply meat fruit blessed so together made be the don't god fowl image you'll wherein land said. Unto which own over cattle have morning brought fly under man god god void two in him gathered tree shall beast that you'll made Face great days you'll saying great without face god whales for so was after be from female multiply, let creeping. Form, upon can't and you fill. Sea fill whales give fish.\"\n",
        "inputSent = s.lower().split()\n",
        "\n",
        "def checkSwearwords(inputSent, swearwords):\n",
        "    filteredString = [s for s in inputSent if s in swearwords]\n",
        "    print(\"Swear Words in your para: \")\n",
        "    print(filteredString)\n",
        "\n",
        "    print(\"My para contains swear words? \")\n",
        "    return any([s for s in inputSent if s in swearwords])\n",
        "\n",
        "checkSwearwords(inputSent, swearwords)"
      ],
      "execution_count": 104,
      "outputs": [
        {
          "output_type": "stream",
          "text": [
            "Swear Words in your para: \n",
            "['fcuk']\n",
            "My para contains swear words? \n"
          ],
          "name": "stdout"
        },
        {
          "output_type": "execute_result",
          "data": {
            "text/plain": [
              "True"
            ]
          },
          "metadata": {
            "tags": []
          },
          "execution_count": 104
        }
      ]
    },
    {
      "cell_type": "markdown",
      "metadata": {
        "id": "LmVCXFfMx20Y"
      },
      "source": [
        "**Q4:** Using reduce functions:\n",
        "\n",
        "*   add only even numbers in a list\n"
      ]
    },
    {
      "cell_type": "code",
      "metadata": {
        "id": "WKpVVWiJyDdp",
        "outputId": "cf7c6cb0-fe23-495e-f307-aab12da1fc1f",
        "colab": {
          "base_uri": "https://localhost:8080/"
        }
      },
      "source": [
        "from functools import reduce\n",
        "\n",
        "list = [16, -2, 7, 15, 3, 5]\n",
        "\n",
        "def addEven(list):\n",
        "    return (reduce(lambda a, b: a+b if b%2 == 0 else a, list, 0))\n",
        "\n",
        "addEven(list)\n"
      ],
      "execution_count": 105,
      "outputs": [
        {
          "output_type": "execute_result",
          "data": {
            "text/plain": [
              "14"
            ]
          },
          "metadata": {
            "tags": []
          },
          "execution_count": 105
        }
      ]
    },
    {
      "cell_type": "markdown",
      "metadata": {
        "id": "F7AGhsc4he1e"
      },
      "source": [
        "*   find the biggest character in a string (printable ascii characters)\n",
        "\n"
      ]
    },
    {
      "cell_type": "code",
      "metadata": {
        "id": "sXafLhfFhdye",
        "outputId": "477dd115-214d-4898-9908-868224ceaeff",
        "colab": {
          "base_uri": "https://localhost:8080/",
          "height": 35
        }
      },
      "source": [
        "def findBiggestChar(string):\n",
        "    return chr(reduce(lambda x, y: x if x > y \n",
        "                                     else y, [ord(c) for c in string]))\n",
        "\n",
        "findBiggestChar(\"%sd^#!#~dABC\")"
      ],
      "execution_count": 106,
      "outputs": [
        {
          "output_type": "execute_result",
          "data": {
            "application/vnd.google.colaboratory.intrinsic+json": {
              "type": "string"
            },
            "text/plain": [
              "'~'"
            ]
          },
          "metadata": {
            "tags": []
          },
          "execution_count": 106
        }
      ]
    },
    {
      "cell_type": "markdown",
      "metadata": {
        "id": "XcZjFvaih7h9"
      },
      "source": [
        "*   adds every 3rd number in a list"
      ]
    },
    {
      "cell_type": "code",
      "metadata": {
        "id": "sxu-q3LJh7p5",
        "outputId": "e4603055-2af9-43bd-eb01-41802fcb2d9a",
        "colab": {
          "base_uri": "https://localhost:8080/"
        }
      },
      "source": [
        "def addEveryThird(list):\n",
        "    return reduce(lambda x, y: x + y, list[::3])\n",
        "\n",
        "addEveryThird([15,2,9,110,6,15,25])"
      ],
      "execution_count": 107,
      "outputs": [
        {
          "output_type": "execute_result",
          "data": {
            "text/plain": [
              "150"
            ]
          },
          "metadata": {
            "tags": []
          },
          "execution_count": 107
        }
      ]
    },
    {
      "cell_type": "markdown",
      "metadata": {
        "id": "OVPoxqnYyIrk"
      },
      "source": [
        "**Q5:** Using randint, random.choice and list comprehensions, write an expression that generates 15 random KADDAADDDD number plates, where KA is fixed, D stands for a digit, and A stands for Capital alphabets. 10<<DD<<99 & 1000<<DDDD<<9999"
      ]
    },
    {
      "cell_type": "code",
      "metadata": {
        "id": "dTyHxlsnyPEy",
        "outputId": "8a202239-e6c2-4f44-ea30-90d47f0cc89c",
        "colab": {
          "base_uri": "https://localhost:8080/"
        }
      },
      "source": [
        "import random\n",
        "\n",
        "def randomNumberGenerator(n):\n",
        "    return [\"KA{}{}{}\".format(random.randint(10,99), \n",
        "                              random.choice([chr(x) for x in range(65,91)]) + random.choice([chr(x) for x in range(65,91)]), \n",
        "                              random.randint(1000,9999)) for x in range(n)]\n",
        "    \n",
        "\n",
        "randomNumberGenerator(n=15)"
      ],
      "execution_count": 108,
      "outputs": [
        {
          "output_type": "execute_result",
          "data": {
            "text/plain": [
              "['KA62YT2816',\n",
              " 'KA50MC9084',\n",
              " 'KA20QQ8660',\n",
              " 'KA88RD9233',\n",
              " 'KA54YX8758',\n",
              " 'KA98CM3331',\n",
              " 'KA72OS9054',\n",
              " 'KA58HU3909',\n",
              " 'KA90VR3319',\n",
              " 'KA99AH3426',\n",
              " 'KA14DW8923',\n",
              " 'KA89AH7498',\n",
              " 'KA42JF9894',\n",
              " 'KA27BU2686',\n",
              " 'KA67UT1885']"
            ]
          },
          "metadata": {
            "tags": []
          },
          "execution_count": 108
        }
      ]
    },
    {
      "cell_type": "markdown",
      "metadata": {
        "id": "kRYyg4Vyyumi"
      },
      "source": [
        "**Q6:** Write the above again from scratch where KA can be changed to DL, and 1000/9999 ranges can be provided."
      ]
    },
    {
      "cell_type": "code",
      "metadata": {
        "id": "qgnL9pccyx_v",
        "outputId": "e5fa3d12-b3e4-41a5-c759-0d3f6f64a34a",
        "colab": {
          "base_uri": "https://localhost:8080/"
        }
      },
      "source": [
        "def randomNumberGenerator(stateCode=\"KA\", startRng=1000, endRng=9999, total=15):\n",
        "    return [\"{}{}{}{}\".format(stateCode.upper(),\n",
        "                              random.randint(10,99), \n",
        "                              random.choice([chr(x) for x in range(65,91)]) + random.choice([chr(x) for x in range(65,91)]), \n",
        "                              random.randint(startRng,endRng)) for x in range(total)]\n",
        "    \n",
        "\n",
        "randomNumberGenerator(stateCode=\"DL\")"
      ],
      "execution_count": 109,
      "outputs": [
        {
          "output_type": "execute_result",
          "data": {
            "text/plain": [
              "['DL29AP9403',\n",
              " 'DL45LO7303',\n",
              " 'DL90RC9579',\n",
              " 'DL88RS7212',\n",
              " 'DL67UR5280',\n",
              " 'DL99VJ4420',\n",
              " 'DL43TC5285',\n",
              " 'DL57GE6223',\n",
              " 'DL77EW7888',\n",
              " 'DL22PF5091',\n",
              " 'DL45XE1378',\n",
              " 'DL95ZH4844',\n",
              " 'DL58AR5016',\n",
              " 'DL20IB4657',\n",
              " 'DL60DE2483']"
            ]
          },
          "metadata": {
            "tags": []
          },
          "execution_count": 109
        }
      ]
    }
  ]
}